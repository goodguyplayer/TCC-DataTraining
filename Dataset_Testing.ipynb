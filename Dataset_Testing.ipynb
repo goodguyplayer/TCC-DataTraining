{
  "nbformat": 4,
  "nbformat_minor": 0,
  "metadata": {
    "colab": {
      "name": "Dataset_Testing.ipynb",
      "provenance": []
    },
    "kernelspec": {
      "name": "python3",
      "display_name": "Python 3"
    },
    "language_info": {
      "name": "python"
    },
    "accelerator": "GPU"
  },
  "cells": [
    {
      "cell_type": "markdown",
      "source": [
        "# TESTING FOUND DATASETS"
      ],
      "metadata": {
        "id": "5nV73m5MUfNe"
      }
    },
    {
      "cell_type": "markdown",
      "source": [
        "# Configuring lab\n",
        "First, load kaggle api.\n",
        "https://medium.com/unpackai/how-to-use-kaggle-datasets-in-google-colab-f9b2e4b5767c"
      ],
      "metadata": {
        "id": "wHdXGefkVCJ8"
      }
    },
    {
      "cell_type": "code",
      "source": [
        "from google.colab import drive\n",
        "drive.mount('/content/drive')"
      ],
      "metadata": {
        "colab": {
          "base_uri": "https://localhost:8080/"
        },
        "id": "Zdvl-A6DUv3t",
        "outputId": "aeb9f484-3b0d-4fa0-f875-79b124551a7a"
      },
      "execution_count": null,
      "outputs": [
        {
          "output_type": "stream",
          "name": "stdout",
          "text": [
            "Drive already mounted at /content/drive; to attempt to forcibly remount, call drive.mount(\"/content/drive\", force_remount=True).\n"
          ]
        }
      ]
    },
    {
      "cell_type": "code",
      "execution_count": null,
      "metadata": {
        "colab": {
          "base_uri": "https://localhost:8080/"
        },
        "id": "TSMIoOFBUXX4",
        "outputId": "41732aaa-e3ff-4f17-b22b-3ff92a69a08c"
      },
      "outputs": [
        {
          "output_type": "stream",
          "name": "stdout",
          "text": [
            "Requirement already satisfied: kaggle in /usr/local/lib/python3.7/dist-packages (1.5.12)\n",
            "Requirement already satisfied: certifi in /usr/local/lib/python3.7/dist-packages (from kaggle) (2021.10.8)\n",
            "Requirement already satisfied: six>=1.10 in /usr/local/lib/python3.7/dist-packages (from kaggle) (1.15.0)\n",
            "Requirement already satisfied: urllib3 in /usr/local/lib/python3.7/dist-packages (from kaggle) (1.24.3)\n",
            "Requirement already satisfied: requests in /usr/local/lib/python3.7/dist-packages (from kaggle) (2.23.0)\n",
            "Requirement already satisfied: python-dateutil in /usr/local/lib/python3.7/dist-packages (from kaggle) (2.8.2)\n",
            "Requirement already satisfied: tqdm in /usr/local/lib/python3.7/dist-packages (from kaggle) (4.64.0)\n",
            "Requirement already satisfied: python-slugify in /usr/local/lib/python3.7/dist-packages (from kaggle) (6.1.2)\n",
            "Requirement already satisfied: text-unidecode>=1.3 in /usr/local/lib/python3.7/dist-packages (from python-slugify->kaggle) (1.3)\n",
            "Requirement already satisfied: chardet<4,>=3.0.2 in /usr/local/lib/python3.7/dist-packages (from requests->kaggle) (3.0.4)\n",
            "Requirement already satisfied: idna<3,>=2.5 in /usr/local/lib/python3.7/dist-packages (from requests->kaggle) (2.10)\n"
          ]
        }
      ],
      "source": [
        "!pip install kaggle"
      ]
    },
    {
      "cell_type": "code",
      "source": [
        "import os\n",
        "os.environ['KAGGLE_CONFIG_DIR'] = \"/content/drive/MyDrive/colab_api/\""
      ],
      "metadata": {
        "id": "3tNpn2ShVe58"
      },
      "execution_count": null,
      "outputs": []
    },
    {
      "cell_type": "markdown",
      "source": [
        "## Setting libraries"
      ],
      "metadata": {
        "id": "2vaNQqqWXkjq"
      }
    },
    {
      "cell_type": "code",
      "source": [
        "import pandas as pd"
      ],
      "metadata": {
        "id": "ZZ159Mh6XkPS"
      },
      "execution_count": null,
      "outputs": []
    },
    {
      "cell_type": "markdown",
      "source": [
        "# DATASET - DDoS Dataset\n",
        "https://www.kaggle.com/datasets/devendra416/ddos-datasets"
      ],
      "metadata": {
        "id": "omH55IKWWA0B"
      }
    },
    {
      "cell_type": "markdown",
      "source": [
        "## Loading data"
      ],
      "metadata": {
        "id": "HyICQNLEW44j"
      }
    },
    {
      "cell_type": "code",
      "source": [
        "!kaggle datasets download -d devendra416/ddos-datasets"
      ],
      "metadata": {
        "colab": {
          "base_uri": "https://localhost:8080/"
        },
        "id": "DulAJ5NsWYMh",
        "outputId": "a218f495-b8e7-43f0-a34c-d136d1dc442f"
      },
      "execution_count": null,
      "outputs": [
        {
          "output_type": "stream",
          "name": "stdout",
          "text": [
            "Downloading ddos-datasets.zip to /content\n",
            "100% 2.68G/2.68G [01:04<00:00, 65.8MB/s]\n",
            "100% 2.68G/2.68G [01:04<00:00, 44.5MB/s]\n"
          ]
        }
      ]
    },
    {
      "cell_type": "code",
      "source": [
        "!unzip ddos-datasets.zip"
      ],
      "metadata": {
        "colab": {
          "base_uri": "https://localhost:8080/"
        },
        "id": "1niWRdnjWtFS",
        "outputId": "2af084a5-d708-44da-d470-b2a8e3c337fc"
      },
      "execution_count": null,
      "outputs": [
        {
          "output_type": "stream",
          "name": "stdout",
          "text": [
            "Archive:  ddos-datasets.zip\n",
            "  inflating: ddos_balanced/final_dataset.csv  \n",
            "  inflating: ddos_imbalanced/unbalaced_20_80_dataset.csv  \n"
          ]
        }
      ]
    },
    {
      "cell_type": "markdown",
      "source": [
        "## Studying data\n",
        "\n",
        "```\n",
        "Balanced Dataset(final_dataset.csv):\n",
        "--> Has total datapoints of 12794627 (ddos + benign) and 84 features\n",
        "--> Each data point corresponds to one flow (either forward or reverse)\n",
        "--> important features are\n",
        "Flowid\n",
        "Timestamp\n",
        "Fwd Seg Size MIn\n",
        "Src IP\n",
        "Dst IP\n",
        "Flow IAT Min\n",
        "Src port\n",
        "Tot Fwd Pkts\n",
        "Init Bwd Win Bytes\n",
        "2.Imbalancd Dataset (unbalaced2080_dataset.csv):\n",
        "--> Total datapoints: 7616509 --> 20% ddos & 80 % benign\n",
        "```\n",
        "\n",
        "\n"
      ],
      "metadata": {
        "id": "1wwbD9IdXvmU"
      }
    },
    {
      "cell_type": "code",
      "source": [
        "ddos_dataset_unbalanced = pd.read_csv(\"/content/ddos_imbalanced/unbalaced_20_80_dataset.csv\")\n",
        "ddos_dataset_balanced = pd.read_csv(\"/content/ddos_balanced/final_dataset.csv\")"
      ],
      "metadata": {
        "id": "UOLC8I7kWtYC"
      },
      "execution_count": null,
      "outputs": []
    },
    {
      "cell_type": "code",
      "source": [
        "ddos_dataset.head()"
      ],
      "metadata": {
        "id": "BQ-vsDBSX6FM"
      },
      "execution_count": null,
      "outputs": []
    },
    {
      "cell_type": "markdown",
      "source": [
        "# DATASET - DDoS Dataset\n",
        "https://www.kaggle.com/datasets/sampadab17/network-intrusion-detection"
      ],
      "metadata": {
        "id": "NWUeKvWpD-XK"
      }
    },
    {
      "cell_type": "markdown",
      "source": [
        "# DATASET - DDoS Dataset\n",
        "https://www.kaggle.com/datasets/mrwellsdavid/unsw-nb15"
      ],
      "metadata": {
        "id": "H6YTt7qdEAKS"
      }
    },
    {
      "cell_type": "markdown",
      "source": [
        "# DATASET - DDoS Dataset\n",
        "https://www.kaggle.com/datasets/ymirsky/network-attack-dataset-kitsune"
      ],
      "metadata": {
        "id": "-p7AnzdRD9oK"
      }
    }
  ]
}